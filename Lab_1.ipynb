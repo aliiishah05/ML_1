{
 "cells": [
  {
   "cell_type": "code",
   "execution_count": 1,
   "id": "d7443ef8",
   "metadata": {},
   "outputs": [],
   "source": [
    "import numpy as np\n",
    "import pandas as pd"
   ]
  },
  {
   "cell_type": "code",
   "execution_count": 66,
   "id": "a2cf4a97",
   "metadata": {},
   "outputs": [],
   "source": [
    "from sklearn.neighbors import KNeighborsClassifier\n",
    "from sklearn.metrics import classification_report, confusion_matrix"
   ]
  },
  {
   "cell_type": "code",
   "execution_count": 6,
   "id": "ac0478fb",
   "metadata": {},
   "outputs": [],
   "source": [
    "from sklearn.model_selection import train_test_split"
   ]
  },
  {
   "cell_type": "code",
   "execution_count": 7,
   "id": "55370ae2",
   "metadata": {},
   "outputs": [
    {
     "name": "stderr",
     "output_type": "stream",
     "text": [
      "C:\\Users\\Hp\\AppData\\Local\\Temp\\ipykernel_14244\\2859132206.py:1: ParserWarning: Falling back to the 'python' engine because the 'c' engine does not support regex separators (separators > 1 char and different from '\\s+' are interpreted as regex); you can avoid this warning by specifying engine='python'.\n",
      "  data_1 = pd.read_csv('ECG200_TRAIN.csv',delimiter= \"  \", header = None)\n"
     ]
    }
   ],
   "source": [
    "data_1 = pd.read_csv('ECG200_TRAIN.csv',delimiter= \"  \", header = None)"
   ]
  },
  {
   "cell_type": "code",
   "execution_count": 22,
   "id": "5546f904",
   "metadata": {
    "scrolled": true
   },
   "outputs": [],
   "source": [
    "# d1 = data_1.iloc[:20]\n",
    "# d2 = data_1.iloc[20:40]\n",
    "# d3 = data_1.iloc[40:60]\n",
    "# d4 = data_1.iloc[60:80]\n",
    "# d5 = data_1.iloc[80:100]\n",
    "# d1 = data_1.iloc[:33]\n",
    "# d2 = data_1.iloc[33:66]\n",
    "# d3 = data_1.iloc[67:100]"
   ]
  },
  {
   "cell_type": "code",
   "execution_count": 14,
   "id": "6768b333",
   "metadata": {},
   "outputs": [],
   "source": [
    "data_1 = data_1.sort_values(by=[0], ascending=True)"
   ]
  },
  {
   "cell_type": "code",
   "execution_count": 26,
   "id": "2bc90f42",
   "metadata": {},
   "outputs": [],
   "source": [
    "d1 = data_1.iloc[:31]\n",
    "d2 = data_1.iloc[31:100]"
   ]
  },
  {
   "cell_type": "code",
   "execution_count": 45,
   "id": "7c962d52",
   "metadata": {},
   "outputs": [],
   "source": [
    "f1 = d1.iloc[:10]\n",
    "f2 = d2.iloc[:23]\n",
    "fold_1 = pd.concat([f1, f2], axis=0)"
   ]
  },
  {
   "cell_type": "code",
   "execution_count": 46,
   "id": "39be42f1",
   "metadata": {},
   "outputs": [],
   "source": [
    "f1 = d1.iloc[10:20]\n",
    "f2 = d2.iloc[23:46]\n",
    "fold_2 = pd.concat([f1, f2], axis=0)"
   ]
  },
  {
   "cell_type": "code",
   "execution_count": 47,
   "id": "182f307c",
   "metadata": {},
   "outputs": [],
   "source": [
    "f1 = d1.iloc[20:30]\n",
    "f2 = d2.iloc[46:69]\n",
    "fold_3 = pd.concat([f1, f2], axis=0)"
   ]
  },
  {
   "cell_type": "code",
   "execution_count": 58,
   "id": "0e8fbfa1",
   "metadata": {},
   "outputs": [],
   "source": [
    "train_1 = pd.concat([fold_1, fold_2], axis=0)\n",
    "test_1 = fold_3\n",
    "train_1_0 = train_1[0]\n",
    "train_1 = train_1.drop([0], axis=1)\n",
    "test_1_0 = test_1[0]\n",
    "test_1 = test_1.drop([0], axis=1)\n"
   ]
  },
  {
   "cell_type": "code",
   "execution_count": 61,
   "id": "00f56f2e",
   "metadata": {},
   "outputs": [],
   "source": [
    "train_2 = pd.concat([fold_2, fold_3], axis=0)\n",
    "test_2 = fold_1\n",
    "train_2_0 = train_2[0]\n",
    "train_2 = train_2.drop([0], axis=1)\n",
    "test_2_0 = test_2[0]\n",
    "test_2 = test_2.drop([0], axis=1)"
   ]
  },
  {
   "cell_type": "code",
   "execution_count": 67,
   "id": "22401de3",
   "metadata": {},
   "outputs": [],
   "source": [
    "train_3 = pd.concat([fold_1, fold_3], axis=0)\n",
    "test_3 = fold_2\n",
    "train_3_0 = train_3[0]\n",
    "train_3 = train_3.drop([0], axis=1)\n",
    "test_3_0 = test_3[0]\n",
    "test_3 = test_3.drop([0], axis=1)"
   ]
  },
  {
   "cell_type": "code",
   "execution_count": 68,
   "id": "3c6524c5",
   "metadata": {
    "scrolled": true
   },
   "outputs": [
    {
     "name": "stdout",
     "output_type": "stream",
     "text": [
      "WITH K = 1\n",
      "\n",
      "\n",
      "[[ 6  4]\n",
      " [ 1 22]]\n",
      "\n",
      "\n",
      "              precision    recall  f1-score   support\n",
      "\n",
      "        -1.0       0.86      0.60      0.71        10\n",
      "         1.0       0.85      0.96      0.90        23\n",
      "\n",
      "    accuracy                           0.85        33\n",
      "   macro avg       0.85      0.78      0.80        33\n",
      "weighted avg       0.85      0.85      0.84        33\n",
      "\n",
      "WITH K = 15\n",
      "\n",
      "\n",
      "[[ 7  3]\n",
      " [ 2 21]]\n",
      "\n",
      "\n",
      "              precision    recall  f1-score   support\n",
      "\n",
      "        -1.0       0.78      0.70      0.74        10\n",
      "         1.0       0.88      0.91      0.89        23\n",
      "\n",
      "    accuracy                           0.85        33\n",
      "   macro avg       0.83      0.81      0.82        33\n",
      "weighted avg       0.85      0.85      0.85        33\n",
      "\n"
     ]
    }
   ],
   "source": [
    "knn = KNeighborsClassifier(n_neighbors = 1)\n",
    "knn.fit(train_1, train_1_0)\n",
    "pred = knn.predict(test_1)\n",
    " \n",
    "print('WITH K = 1')\n",
    "print('\\n')\n",
    "print(confusion_matrix(test_1_0, pred))\n",
    "print('\\n')\n",
    "print(classification_report(test_1_0, pred))\n",
    " \n",
    " \n",
    "# NOW WITH K = 15\n",
    "knn = KNeighborsClassifier(n_neighbors = 15)\n",
    " \n",
    "knn.fit(train_1, train_1_0)\n",
    "pred = knn.predict(test_1)\n",
    " \n",
    "print('WITH K = 15')\n",
    "print('\\n')\n",
    "print(confusion_matrix(test_1_0, pred))\n",
    "print('\\n')\n",
    "print(classification_report(test_1_0, pred))"
   ]
  },
  {
   "cell_type": "code",
   "execution_count": 69,
   "id": "54d06a37",
   "metadata": {},
   "outputs": [
    {
     "name": "stdout",
     "output_type": "stream",
     "text": [
      "WITH K = 1\n",
      "\n",
      "\n",
      "[[ 9  1]\n",
      " [ 1 22]]\n",
      "\n",
      "\n",
      "              precision    recall  f1-score   support\n",
      "\n",
      "        -1.0       0.90      0.90      0.90        10\n",
      "         1.0       0.96      0.96      0.96        23\n",
      "\n",
      "    accuracy                           0.94        33\n",
      "   macro avg       0.93      0.93      0.93        33\n",
      "weighted avg       0.94      0.94      0.94        33\n",
      "\n",
      "WITH K = 15\n",
      "\n",
      "\n",
      "[[ 4  6]\n",
      " [ 5 18]]\n",
      "\n",
      "\n",
      "              precision    recall  f1-score   support\n",
      "\n",
      "        -1.0       0.44      0.40      0.42        10\n",
      "         1.0       0.75      0.78      0.77        23\n",
      "\n",
      "    accuracy                           0.67        33\n",
      "   macro avg       0.60      0.59      0.59        33\n",
      "weighted avg       0.66      0.67      0.66        33\n",
      "\n"
     ]
    }
   ],
   "source": [
    "knn = KNeighborsClassifier(n_neighbors = 1)\n",
    "knn.fit(train_2, train_2_0)\n",
    "pred = knn.predict(test_2)\n",
    " \n",
    "print('WITH K = 1')\n",
    "print('\\n')\n",
    "print(confusion_matrix(test_2_0, pred))\n",
    "print('\\n')\n",
    "print(classification_report(test_2_0, pred))\n",
    " \n",
    " \n",
    "# NOW WITH K = 15\n",
    "knn = KNeighborsClassifier(n_neighbors = 15)\n",
    " \n",
    "knn.fit(train_2, train_2_0)\n",
    "pred = knn.predict(test_2)\n",
    " \n",
    "print('WITH K = 15')\n",
    "print('\\n')\n",
    "print(confusion_matrix(test_2_0, pred))\n",
    "print('\\n')\n",
    "print(classification_report(test_2_0, pred))"
   ]
  },
  {
   "cell_type": "code",
   "execution_count": 70,
   "id": "fc6351c8",
   "metadata": {},
   "outputs": [
    {
     "name": "stdout",
     "output_type": "stream",
     "text": [
      "WITH K = 1\n",
      "\n",
      "\n",
      "[[ 8  2]\n",
      " [ 1 22]]\n",
      "\n",
      "\n",
      "              precision    recall  f1-score   support\n",
      "\n",
      "        -1.0       0.89      0.80      0.84        10\n",
      "         1.0       0.92      0.96      0.94        23\n",
      "\n",
      "    accuracy                           0.91        33\n",
      "   macro avg       0.90      0.88      0.89        33\n",
      "weighted avg       0.91      0.91      0.91        33\n",
      "\n",
      "WITH K = 15\n",
      "\n",
      "\n",
      "[[ 4  6]\n",
      " [ 2 21]]\n",
      "\n",
      "\n",
      "              precision    recall  f1-score   support\n",
      "\n",
      "        -1.0       0.67      0.40      0.50        10\n",
      "         1.0       0.78      0.91      0.84        23\n",
      "\n",
      "    accuracy                           0.76        33\n",
      "   macro avg       0.72      0.66      0.67        33\n",
      "weighted avg       0.74      0.76      0.74        33\n",
      "\n"
     ]
    }
   ],
   "source": [
    "knn = KNeighborsClassifier(n_neighbors = 1)\n",
    "knn.fit(train_3, train_3_0)\n",
    "pred = knn.predict(test_3)\n",
    " \n",
    "print('WITH K = 1')\n",
    "print('\\n')\n",
    "print(confusion_matrix(test_3_0, pred))\n",
    "print('\\n')\n",
    "print(classification_report(test_3_0, pred))\n",
    " \n",
    " \n",
    "# NOW WITH K = 15\n",
    "knn = KNeighborsClassifier(n_neighbors = 15)\n",
    " \n",
    "knn.fit(train_3, train_3_0)\n",
    "pred = knn.predict(test_3)\n",
    " \n",
    "print('WITH K = 15')\n",
    "print('\\n')\n",
    "print(confusion_matrix(test_3_0, pred))\n",
    "print('\\n')\n",
    "print(classification_report(test_3_0, pred))"
   ]
  },
  {
   "cell_type": "code",
   "execution_count": 100,
   "id": "ccc3b3ea",
   "metadata": {},
   "outputs": [],
   "source": [
    "e1 = data_1.iloc[0:31]\n",
    "e2 = data_1.iloc[31:100]"
   ]
  },
  {
   "cell_type": "code",
   "execution_count": 101,
   "id": "4ffbc73c",
   "metadata": {},
   "outputs": [],
   "source": [
    "e1_0 = e1[0]\n",
    "e1 = e1.drop([0], axis=1)\n",
    "e2_0 = e2[0]\n",
    "e2 = e2.drop([0], axis=1)"
   ]
  },
  {
   "cell_type": "code",
   "execution_count": null,
   "id": "fb181407",
   "metadata": {},
   "outputs": [],
   "source": [
    "from sklearn.preprocessing import StandardScaler\n",
    " \n",
    "scaler = StandardScaler()\n",
    " \n",
    "scaler.fit(data_1.drop('TARGET CLASS', axis = 1))\n",
    "scaled_features = scaler.transform(data_1.drop(0, axis = 1))\n",
    " \n",
    "df_feat = pd.DataFrame(scaled_features, columns = data_1.columns[:-1])\n",
    "df_feat.head()"
   ]
  },
  {
   "cell_type": "code",
   "execution_count": null,
   "id": "222a2f1f",
   "metadata": {},
   "outputs": [],
   "source": [
    "knn = KNeighborsClassifier(n_neighbors = 1)\n",
    "knn.fit(e2, e2_0)\n",
    "pred = knn.predict(e1)\n",
    " \n",
    "print('WITH K = 1')\n",
    "print('\\n')\n",
    "print(confusion_matrix(e1_0, pred))\n",
    "print('\\n')\n",
    "print(classification_report(e1_0, pred))\n",
    " \n",
    " \n",
    "# NOW WITH K = 15\n",
    "knn = KNeighborsClassifier(n_neighbors = 15)\n",
    " \n",
    "knn.fit(e2, e2_0)\n",
    "pred = knn.predict(e1)\n",
    " \n",
    "print('WITH K = 15')\n",
    "print('\\n')\n",
    "print(confusion_matrix(e1_0, pred))\n",
    "print('\\n')\n",
    "print(classification_report(e1_0, pred))"
   ]
  }
 ],
 "metadata": {
  "interpreter": {
   "hash": "027efd7095115064582efab50921964d678032cf36f1ec215c675cf4ffc5e6b9"
  },
  "kernelspec": {
   "display_name": "Python 3.10.2 64-bit",
   "language": "python",
   "name": "python3"
  },
  "language_info": {
   "codemirror_mode": {
    "name": "ipython",
    "version": 3
   },
   "file_extension": ".py",
   "mimetype": "text/x-python",
   "name": "python",
   "nbconvert_exporter": "python",
   "pygments_lexer": "ipython3",
   "version": "3.10.2"
  }
 },
 "nbformat": 4,
 "nbformat_minor": 5
}
